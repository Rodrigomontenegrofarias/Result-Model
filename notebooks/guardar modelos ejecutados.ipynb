{
 "cells": [
  {
   "cell_type": "code",
   "execution_count": 1,
   "id": "9a1b28cf",
   "metadata": {},
   "outputs": [
    {
     "name": "stdout",
     "output_type": "stream",
     "text": [
      "\u001b[0m\u001b[01;34ma\u001b[0m/                 exp-1.ipynb  exp-4.ipynb  exp-7.ipynb  requirements.txt\r\n",
      "\u001b[01;34mDATABASE-PRIVATE\u001b[0m/  exp-2.ipynb  exp-5.ipynb  exp-8.ipynb  \u001b[01;34mResult-Model\u001b[0m/\r\n",
      "exp-10.ipynb       exp-3.ipynb  exp-6.ipynb  exp-9.ipynb  Untitled.ipynb\r\n"
     ]
    }
   ],
   "source": [
    "ls\n"
   ]
  },
  {
   "cell_type": "code",
   "execution_count": 2,
   "id": "3f0323da",
   "metadata": {},
   "outputs": [
    {
     "data": {
      "text/plain": [
       "'/root/notebooks'"
      ]
     },
     "execution_count": 2,
     "metadata": {},
     "output_type": "execute_result"
    }
   ],
   "source": [
    "pwd\n"
   ]
  },
  {
   "cell_type": "code",
   "execution_count": 3,
   "id": "1e74e882",
   "metadata": {},
   "outputs": [
    {
     "name": "stdout",
     "output_type": "stream",
     "text": [
      "Enter the password of your Github account: ········\n",
      "Cloning into 'result'...\n",
      "remote: Enumerating objects: 304, done.\u001b[K\n",
      "remote: Counting objects: 100% (304/304), done.\u001b[K\n",
      "remote: Compressing objects: 100% (233/233), done.\u001b[K\n",
      "remote: Total 304 (delta 118), reused 244 (delta 65), pack-reused 0\u001b[K\n",
      "Receiving objects: 100% (304/304), 4.58 MiB | 3.54 MiB/s, done.\n",
      "Resolving deltas: 100% (118/118), done.\n"
     ]
    }
   ],
   "source": [
    "from getpass import getpass\n",
    "import os\n",
    "\n",
    "os.environ['USER'] = \"Rodrigomontenegrofarias\"\n",
    "os.environ['PASSWORD'] = getpass('Enter the password of your Github account: ')\n",
    "os.environ['REPOSITORY'] = \"result\"\n",
    "os.environ['GITHUB_AUTH'] = os.environ['USER'] + ':' + os.environ['PASSWORD']\n",
    "\n",
    "!rm -rf $REPOSITORY # To remove the previous clone of the Github repository\n",
    "!git clone https://$GITHUB_AUTH@github.com/$USER/$REPOSITORY.git \n",
    "\n",
    "os.environ['USER'] = os.environ['PASSWORD'] = os.environ['REPOSITORY'] = os.environ['GITHUB_AUTH'] = \"\""
   ]
  },
  {
   "cell_type": "code",
   "execution_count": 4,
   "id": "c7524b50",
   "metadata": {},
   "outputs": [
    {
     "name": "stdout",
     "output_type": "stream",
     "text": [
      "\u001b[0m\u001b[01;34ma\u001b[0m/                 exp-2.ipynb  exp-6.ipynb  requirements.txt\r\n",
      "\u001b[01;34mDATABASE-PRIVATE\u001b[0m/  exp-3.ipynb  exp-7.ipynb  \u001b[01;34mresult\u001b[0m/\r\n",
      "exp-10.ipynb       exp-4.ipynb  exp-8.ipynb  \u001b[01;34mResult-Model\u001b[0m/\r\n",
      "exp-1.ipynb        exp-5.ipynb  exp-9.ipynb  Untitled.ipynb\r\n"
     ]
    }
   ],
   "source": [
    "ls\n"
   ]
  },
  {
   "cell_type": "code",
   "execution_count": 5,
   "id": "f248b3e4",
   "metadata": {},
   "outputs": [
    {
     "name": "stdout",
     "output_type": "stream",
     "text": [
      "/root/notebooks/result\n"
     ]
    }
   ],
   "source": [
    "cd result/\n"
   ]
  },
  {
   "cell_type": "code",
   "execution_count": 6,
   "id": "fde8b325",
   "metadata": {},
   "outputs": [
    {
     "name": "stdout",
     "output_type": "stream",
     "text": [
      "Prueba10.0.csv          test_labels2-10.0.csv    train_dataset3-1.0.csv\r\n",
      "Prueba1.0.csv           test_labels2-1.0.csv     train_dataset3-2.0.csv\r\n",
      "Prueba2.0.csv           test_labels2-2.0.csv     train_dataset3-3.0.csv\r\n",
      "Prueba3.0.csv           test_labels2-3.0.csv     train_dataset3-4.0.csv\r\n",
      "Prueba4.0.csv           test_labels2-4.0.csv     train_dataset3-5.0.csv\r\n",
      "Prueba5.0.csv           test_labels2-5.0.csv     train_dataset3-6.0.csv\r\n",
      "Prueba6.0.csv           test_labels2-6.0.csv     train_dataset3-7.0.csv\r\n",
      "Prueba7.0.csv           test_labels2-7.0.csv     train_dataset3-8.0.csv\r\n",
      "Prueba8.0.csv           test_labels2-8.0.csv     train_dataset3-9.0.csv\r\n",
      "Prueba9.0.csv           test_labels2-9.0.csv     train_labels2-10.0.csv\r\n",
      "README.md               test_labels3-10.0.csv    train_labels2-1.0.csv\r\n",
      "test_dataset2-10.0.csv  test_labels3-1.0.csv     train_labels2-2.0.csv\r\n",
      "test_dataset2-1.0.csv   test_labels3-2.0.csv     train_labels2-3.0.csv\r\n",
      "test_dataset2-2.0.csv   test_labels3-3.0.csv     train_labels2-4.0.csv\r\n",
      "test_dataset2-3.0.csv   test_labels3-4.0.csv     train_labels2-5.0.csv\r\n",
      "test_dataset2-4.0.csv   test_labels3-5.0.csv     train_labels2-6.0.csv\r\n",
      "test_dataset2-5.0.csv   test_labels3-6.0.csv     train_labels2-7.0.csv\r\n",
      "test_dataset2-6.0.csv   test_labels3-7.0.csv     train_labels2-8.0.csv\r\n",
      "test_dataset2-7.0.csv   test_labels3-8.0.csv     train_labels2-9.0.csv\r\n",
      "test_dataset2-8.0.csv   test_labels3-9.0.csv     train_labels3-10.0.csv\r\n",
      "test_dataset2-9.0.csv   train_dataset2-10.0.csv  train_labels3-1.0.csv\r\n",
      "test_dataset3-10.0.csv  train_dataset2-1.0.csv   train_labels3-2.0.csv\r\n",
      "test_dataset3-1.0.csv   train_dataset2-2.0.csv   train_labels3-3.0.csv\r\n",
      "test_dataset3-2.0.csv   train_dataset2-3.0.csv   train_labels3-4.0.csv\r\n",
      "test_dataset3-3.0.csv   train_dataset2-4.0.csv   train_labels3-5.0.csv\r\n",
      "test_dataset3-4.0.csv   train_dataset2-5.0.csv   train_labels3-6.0.csv\r\n",
      "test_dataset3-5.0.csv   train_dataset2-6.0.csv   train_labels3-7.0.csv\r\n",
      "test_dataset3-6.0.csv   train_dataset2-7.0.csv   train_labels3-8.0.csv\r\n",
      "test_dataset3-7.0.csv   train_dataset2-8.0.csv   train_labels3-9.0.csv\r\n",
      "test_dataset3-8.0.csv   train_dataset2-9.0.csv\r\n",
      "test_dataset3-9.0.csv   train_dataset3-10.0.csv\r\n"
     ]
    }
   ],
   "source": [
    "ls"
   ]
  },
  {
   "cell_type": "code",
   "execution_count": 7,
   "id": "e2d2fbbd",
   "metadata": {},
   "outputs": [],
   "source": [
    "mkdir prueba"
   ]
  },
  {
   "cell_type": "code",
   "execution_count": 8,
   "id": "c84731bf",
   "metadata": {},
   "outputs": [
    {
     "name": "stdout",
     "output_type": "stream",
     "text": [
      "/root/notebooks/result/prueba\n"
     ]
    }
   ],
   "source": [
    "cd prueba\n"
   ]
  },
  {
   "cell_type": "code",
   "execution_count": null,
   "id": "28792b12",
   "metadata": {},
   "outputs": [],
   "source": []
  },
  {
   "cell_type": "code",
   "execution_count": null,
   "id": "d87440bd",
   "metadata": {},
   "outputs": [],
   "source": []
  },
  {
   "cell_type": "code",
   "execution_count": 10,
   "id": "e28820b0",
   "metadata": {},
   "outputs": [],
   "source": [
    "cp -r /root/notebooks/exp-1.ipynb  /root/notebooks/result/prueba "
   ]
  },
  {
   "cell_type": "code",
   "execution_count": 11,
   "id": "48ff97ed",
   "metadata": {},
   "outputs": [],
   "source": [
    "cp -r /root/notebooks/exp-2.ipynb  /root/notebooks/result/prueba "
   ]
  },
  {
   "cell_type": "code",
   "execution_count": 12,
   "id": "c419b4d0",
   "metadata": {},
   "outputs": [],
   "source": [
    "cp -r /root/notebooks/exp-3.ipynb  /root/notebooks/result/prueba "
   ]
  },
  {
   "cell_type": "code",
   "execution_count": 13,
   "id": "c92b26da",
   "metadata": {},
   "outputs": [],
   "source": [
    "cp -r /root/notebooks/exp-4.ipynb  /root/notebooks/result/prueba "
   ]
  },
  {
   "cell_type": "code",
   "execution_count": 15,
   "id": "585dd52a",
   "metadata": {},
   "outputs": [],
   "source": [
    "cp -r /root/notebooks/exp-5.ipynb  /root/notebooks/result/prueba \n"
   ]
  },
  {
   "cell_type": "code",
   "execution_count": 16,
   "id": "f5fc325c",
   "metadata": {},
   "outputs": [],
   "source": [
    "cp -r /root/notebooks/exp-6.ipynb  /root/notebooks/result/prueba "
   ]
  },
  {
   "cell_type": "code",
   "execution_count": 23,
   "id": "e78b0b76",
   "metadata": {},
   "outputs": [],
   "source": [
    "cp -r /root/notebooks/exp-7.ipynb  /root/notebooks/result/prueba "
   ]
  },
  {
   "cell_type": "code",
   "execution_count": 24,
   "id": "d076db0c",
   "metadata": {},
   "outputs": [],
   "source": [
    "cp -r /root/notebooks/exp-8.ipynb  /root/notebooks/result/prueba "
   ]
  },
  {
   "cell_type": "code",
   "execution_count": 25,
   "id": "b725808e",
   "metadata": {},
   "outputs": [],
   "source": [
    "cp -r /root/notebooks/exp-9.ipynb  /root/notebooks/result/prueba "
   ]
  },
  {
   "cell_type": "code",
   "execution_count": 26,
   "id": "72d562b2",
   "metadata": {},
   "outputs": [],
   "source": [
    "cp -r /root/notebooks/exp-10.ipynb  /root/notebooks/result/prueba "
   ]
  },
  {
   "cell_type": "code",
   "execution_count": 27,
   "id": "cbdaa732",
   "metadata": {},
   "outputs": [
    {
     "name": "stdout",
     "output_type": "stream",
     "text": [
      "exp-10.ipynb  exp-2.ipynb  exp-4.ipynb  exp-6.ipynb  exp-8.ipynb\r\n",
      "exp-1.ipynb   exp-3.ipynb  exp-5.ipynb  exp-7.ipynb  exp-9.ipynb\r\n"
     ]
    }
   ],
   "source": [
    "ls"
   ]
  },
  {
   "cell_type": "code",
   "execution_count": 31,
   "id": "7bc0adc1",
   "metadata": {},
   "outputs": [
    {
     "data": {
      "text/plain": [
       "'/root/notebooks/result/prueba'"
      ]
     },
     "execution_count": 31,
     "metadata": {},
     "output_type": "execute_result"
    }
   ],
   "source": [
    "pwd"
   ]
  },
  {
   "cell_type": "code",
   "execution_count": 36,
   "id": "607a983f",
   "metadata": {},
   "outputs": [
    {
     "name": "stdout",
     "output_type": "stream",
     "text": [
      "/root/notebooks/result/prueba\n"
     ]
    }
   ],
   "source": [
    "cd ."
   ]
  },
  {
   "cell_type": "code",
   "execution_count": 37,
   "id": "aac7f3eb",
   "metadata": {},
   "outputs": [
    {
     "name": "stdout",
     "output_type": "stream",
     "text": [
      "exp-10.ipynb  exp-2.ipynb  exp-4.ipynb  exp-6.ipynb  exp-8.ipynb\r\n",
      "exp-1.ipynb   exp-3.ipynb  exp-5.ipynb  exp-7.ipynb  exp-9.ipynb\r\n"
     ]
    }
   ],
   "source": [
    "ls"
   ]
  },
  {
   "cell_type": "code",
   "execution_count": 38,
   "id": "6da61a99",
   "metadata": {},
   "outputs": [
    {
     "name": "stdout",
     "output_type": "stream",
     "text": [
      "/root/notebooks/result\n"
     ]
    }
   ],
   "source": [
    "cd .."
   ]
  },
  {
   "cell_type": "code",
   "execution_count": null,
   "id": "55abe649",
   "metadata": {},
   "outputs": [],
   "source": []
  },
  {
   "cell_type": "code",
   "execution_count": 39,
   "id": "95158cb3",
   "metadata": {},
   "outputs": [
    {
     "name": "stdout",
     "output_type": "stream",
     "text": [
      "On branch main\r\n",
      "Your branch is up to date with 'origin/main'.\r\n",
      "\r\n",
      "Changes to be committed:\r\n",
      "  (use \"git reset HEAD <file>...\" to unstage)\r\n",
      "\r\n",
      "\t\u001b[32mnew file:   prueba/exp-1.ipynb\u001b[m\r\n",
      "\t\u001b[32mnew file:   prueba/exp-10.ipynb\u001b[m\r\n",
      "\t\u001b[32mnew file:   prueba/exp-2.ipynb\u001b[m\r\n",
      "\t\u001b[32mnew file:   prueba/exp-3.ipynb\u001b[m\r\n",
      "\t\u001b[32mnew file:   prueba/exp-4.ipynb\u001b[m\r\n",
      "\t\u001b[32mnew file:   prueba/exp-5.ipynb\u001b[m\r\n",
      "\t\u001b[32mnew file:   prueba/exp-6.ipynb\u001b[m\r\n",
      "\t\u001b[32mnew file:   prueba/exp-7.ipynb\u001b[m\r\n",
      "\t\u001b[32mnew file:   prueba/exp-8.ipynb\u001b[m\r\n",
      "\t\u001b[32mnew file:   prueba/exp-9.ipynb\u001b[m\r\n",
      "\r\n"
     ]
    }
   ],
   "source": [
    "!git status\n"
   ]
  },
  {
   "cell_type": "code",
   "execution_count": 40,
   "id": "90b40cf9",
   "metadata": {},
   "outputs": [],
   "source": [
    "!git add ."
   ]
  },
  {
   "cell_type": "code",
   "execution_count": 42,
   "id": "d113eac5",
   "metadata": {},
   "outputs": [],
   "source": [
    "!git config user.email \"rodrigo.montenegro@alumnos.uv.cl\"\n",
    "\n",
    "!git config user.name \"Rodrigomontenegrofarias\""
   ]
  },
  {
   "cell_type": "markdown",
   "id": "fb790f92",
   "metadata": {},
   "source": [
    "##### "
   ]
  },
  {
   "cell_type": "code",
   "execution_count": 43,
   "id": "cdf6966f",
   "metadata": {},
   "outputs": [
    {
     "name": "stdout",
     "output_type": "stream",
     "text": [
      "[main ec97ed2] commit message\n",
      " 10 files changed, 771555 insertions(+)\n",
      " create mode 100644 prueba/exp-1.ipynb\n",
      " create mode 100644 prueba/exp-10.ipynb\n",
      " create mode 100644 prueba/exp-2.ipynb\n",
      " create mode 100644 prueba/exp-3.ipynb\n",
      " create mode 100644 prueba/exp-4.ipynb\n",
      " create mode 100644 prueba/exp-5.ipynb\n",
      " create mode 100644 prueba/exp-6.ipynb\n",
      " create mode 100644 prueba/exp-7.ipynb\n",
      " create mode 100644 prueba/exp-8.ipynb\n",
      " create mode 100644 prueba/exp-9.ipynb\n"
     ]
    }
   ],
   "source": [
    "!git commit -m 'commit message'  # commit in Colab"
   ]
  },
  {
   "cell_type": "code",
   "execution_count": 44,
   "id": "ea14c70c",
   "metadata": {},
   "outputs": [
    {
     "name": "stdout",
     "output_type": "stream",
     "text": [
      "Counting objects: 13, done.\n",
      "Delta compression using up to 8 threads.\n",
      "Compressing objects: 100% (13/13), done.\n",
      "Writing objects: 100% (13/13), 12.95 MiB | 236.00 KiB/s, done.\n",
      "Total 13 (delta 10), reused 0 (delta 0)\n",
      "remote: Resolving deltas: 100% (10/10), completed with 1 local object.\u001b[K\n",
      "To https://github.com/Rodrigomontenegrofarias/result.git\n",
      "   1a8008c..ec97ed2  main -> main\n"
     ]
    }
   ],
   "source": [
    "!git push origin main       # push to github"
   ]
  },
  {
   "cell_type": "code",
   "execution_count": null,
   "id": "ce8724e8",
   "metadata": {},
   "outputs": [],
   "source": []
  }
 ],
 "metadata": {
  "kernelspec": {
   "display_name": "Python 3",
   "language": "python",
   "name": "python3"
  },
  "language_info": {
   "codemirror_mode": {
    "name": "ipython",
    "version": 3
   },
   "file_extension": ".py",
   "mimetype": "text/x-python",
   "name": "python",
   "nbconvert_exporter": "python",
   "pygments_lexer": "ipython3",
   "version": "3.6.9"
  }
 },
 "nbformat": 4,
 "nbformat_minor": 5
}
