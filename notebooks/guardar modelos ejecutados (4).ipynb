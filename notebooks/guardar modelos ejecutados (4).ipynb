{
 "cells": [
  {
   "cell_type": "code",
   "execution_count": 1,
   "id": "ae623d2e",
   "metadata": {},
   "outputs": [],
   "source": [
    "rm -rf resultados-modelos-tesis/"
   ]
  },
  {
   "cell_type": "code",
   "execution_count": 2,
   "id": "9a1b28cf",
   "metadata": {},
   "outputs": [
    {
     "name": "stdout",
     "output_type": "stream",
     "text": [
      "\u001b[0m\u001b[01;34m''\\''_Acu-Pd-MLP-LM'\\''))@github.com'\u001b[0m/    exp_final_5.0.ipynb\r\n",
      " \u001b[01;34mDATABASE-PRIVATE\u001b[0m/                        exp_final_6.0.ipynb\r\n",
      " exp-1.ipynb                              exp_final_7.0.ipynb\r\n",
      " Experimento1_Complemento_Lekouch.ipynb   exp_final_8.0.ipynb\r\n",
      " exp_final_10.0.ipynb                     exp_final_9.0.ipynb\r\n",
      " exp_final_1.0.ipynb                     'guardar modelos ejecutados.ipynb'\r\n",
      " exp_final_2.0.ipynb                      \u001b[01;34mprueba\u001b[0m/\r\n",
      " exp_final_3.0.ipynb                      requirements.txt\r\n",
      " exp_final_4.0.ipynb                      Resultados_final.ipynb\r\n"
     ]
    }
   ],
   "source": [
    "ls\n"
   ]
  },
  {
   "cell_type": "code",
   "execution_count": 3,
   "id": "3f0323da",
   "metadata": {},
   "outputs": [
    {
     "data": {
      "text/plain": [
       "'/root/notebooks'"
      ]
     },
     "execution_count": 3,
     "metadata": {},
     "output_type": "execute_result"
    }
   ],
   "source": [
    "pwd\n"
   ]
  },
  {
   "cell_type": "code",
   "execution_count": 4,
   "id": "1e74e882",
   "metadata": {},
   "outputs": [
    {
     "name": "stdout",
     "output_type": "stream",
     "text": [
      "Enter the password of your Github account: ········\n",
      "Cloning into 'resultados-modelos-tesis'...\n",
      "remote: Enumerating objects: 286, done.\u001b[K\n",
      "remote: Counting objects: 100% (60/60), done.\u001b[K\n",
      "remote: Compressing objects: 100% (21/21), done.\u001b[K\n",
      "remote: Total 286 (delta 40), reused 59 (delta 39), pack-reused 226\u001b[K\n",
      "Receiving objects: 100% (286/286), 33.01 MiB | 22.87 MiB/s, done.\n",
      "Resolving deltas: 100% (123/123), done.\n"
     ]
    }
   ],
   "source": [
    "from getpass import getpass\n",
    "import os\n",
    "\n",
    "os.environ['USER'] = \"Rodrigomontenegrofarias\"\n",
    "os.environ['PASSWORD'] = getpass('Enter the password of your Github account: ')\n",
    "os.environ['REPOSITORY'] = \"resultados-modelos-tesis\"\n",
    "os.environ['GITHUB_AUTH'] = os.environ['USER'] + ':' + os.environ['PASSWORD']\n",
    "\n",
    "!rm -rf $REPOSITORY # To remove the previous clone of the Github repository\n",
    "!git clone https://$GITHUB_AUTH@github.com/$USER/$REPOSITORY.git \n",
    "\n",
    "os.environ['USER'] = os.environ['PASSWORD'] = os.environ['REPOSITORY'] = os.environ['GITHUB_AUTH'] = \"\""
   ]
  },
  {
   "cell_type": "code",
   "execution_count": 5,
   "id": "aa77b151",
   "metadata": {},
   "outputs": [
    {
     "name": "stdout",
     "output_type": "stream",
     "text": [
      "/root/notebooks/resultados-modelos-tesis\n"
     ]
    }
   ],
   "source": [
    "cd resultados-modelos-tesis/ "
   ]
  },
  {
   "cell_type": "code",
   "execution_count": 6,
   "id": "c7524b50",
   "metadata": {},
   "outputs": [
    {
     "name": "stdout",
     "output_type": "stream",
     "text": [
      "\u001b[0m\u001b[01;34mprueba\u001b[0m/         Prueba2.0.csv  Prueba5.0.csv  Prueba8.0.csv\r\n",
      "Prueba10.0.csv  Prueba3.0.csv  Prueba6.0.csv  Prueba9.0.csv\r\n",
      "Prueba1.0.csv   Prueba4.0.csv  Prueba7.0.csv\r\n"
     ]
    }
   ],
   "source": [
    "ls\n"
   ]
  },
  {
   "cell_type": "code",
   "execution_count": 7,
   "id": "fde8b325",
   "metadata": {},
   "outputs": [
    {
     "name": "stdout",
     "output_type": "stream",
     "text": [
      "\u001b[0m\u001b[01;34mprueba\u001b[0m/         Prueba2.0.csv  Prueba5.0.csv  Prueba8.0.csv\r\n",
      "Prueba10.0.csv  Prueba3.0.csv  Prueba6.0.csv  Prueba9.0.csv\r\n",
      "Prueba1.0.csv   Prueba4.0.csv  Prueba7.0.csv\r\n"
     ]
    }
   ],
   "source": [
    "ls"
   ]
  },
  {
   "cell_type": "code",
   "execution_count": 8,
   "id": "e2d2fbbd",
   "metadata": {},
   "outputs": [
    {
     "name": "stdout",
     "output_type": "stream",
     "text": [
      "mkdir: cannot create directory ‘prueba’: File exists\r\n"
     ]
    }
   ],
   "source": [
    "mkdir prueba"
   ]
  },
  {
   "cell_type": "code",
   "execution_count": 9,
   "id": "c84731bf",
   "metadata": {},
   "outputs": [
    {
     "name": "stdout",
     "output_type": "stream",
     "text": [
      "/root/notebooks/resultados-modelos-tesis/prueba\n"
     ]
    }
   ],
   "source": [
    "cd prueba\n"
   ]
  },
  {
   "cell_type": "code",
   "execution_count": 10,
   "id": "28792b12",
   "metadata": {},
   "outputs": [
    {
     "data": {
      "text/plain": [
       "'/root/notebooks/resultados-modelos-tesis/prueba'"
      ]
     },
     "execution_count": 10,
     "metadata": {},
     "output_type": "execute_result"
    }
   ],
   "source": [
    "pwd"
   ]
  },
  {
   "cell_type": "code",
   "execution_count": null,
   "id": "d87440bd",
   "metadata": {},
   "outputs": [],
   "source": []
  },
  {
   "cell_type": "code",
   "execution_count": 11,
   "id": "e28820b0",
   "metadata": {},
   "outputs": [],
   "source": [
    "cp -r /root/notebooks/exp_final_1.0.ipynb  /root/notebooks/resultados-modelos-tesis/prueba "
   ]
  },
  {
   "cell_type": "code",
   "execution_count": 12,
   "id": "48ff97ed",
   "metadata": {},
   "outputs": [],
   "source": [
    "cp -r /root/notebooks/exp_final_2.0.ipynb  /root/notebooks/resultados-modelos-tesis/prueba"
   ]
  },
  {
   "cell_type": "code",
   "execution_count": 13,
   "id": "c419b4d0",
   "metadata": {},
   "outputs": [],
   "source": [
    "cp -r /root/notebooks/exp_final_3.0.ipynb  /root/notebooks/resultados-modelos-tesis/prueba"
   ]
  },
  {
   "cell_type": "code",
   "execution_count": 14,
   "id": "c92b26da",
   "metadata": {},
   "outputs": [],
   "source": [
    "cp -r /root/notebooks/exp_final_4.0.ipynb  /root/notebooks/resultados-modelos-tesis/prueba"
   ]
  },
  {
   "cell_type": "code",
   "execution_count": 15,
   "id": "585dd52a",
   "metadata": {},
   "outputs": [],
   "source": [
    "cp -r /root/notebooks/exp_final_5.0.ipynb  /root/notebooks/resultados-modelos-tesis/prueba"
   ]
  },
  {
   "cell_type": "code",
   "execution_count": 16,
   "id": "461060de",
   "metadata": {},
   "outputs": [],
   "source": [
    "cp -r /root/notebooks/exp_final_6.0.ipynb  /root/notebooks/resultados-modelos-tesis/prueba"
   ]
  },
  {
   "cell_type": "code",
   "execution_count": 17,
   "id": "4fe0688e",
   "metadata": {},
   "outputs": [],
   "source": [
    "cp -r /root/notebooks/exp_final_7.0.ipynb  /root/notebooks/resultados-modelos-tesis/prueba"
   ]
  },
  {
   "cell_type": "code",
   "execution_count": 18,
   "id": "98561cd2",
   "metadata": {},
   "outputs": [],
   "source": [
    "cp -r /root/notebooks/exp_final_8.0.ipynb  /root/notebooks/resultados-modelos-tesis/prueba"
   ]
  },
  {
   "cell_type": "code",
   "execution_count": 19,
   "id": "3c3157f0",
   "metadata": {},
   "outputs": [],
   "source": [
    "cp -r /root/notebooks/exp_final_9.0.ipynb  /root/notebooks/resultados-modelos-tesis/prueba"
   ]
  },
  {
   "cell_type": "code",
   "execution_count": 20,
   "id": "586269e4",
   "metadata": {},
   "outputs": [],
   "source": [
    "cp -r /root/notebooks/exp_final_10.0.ipynb  /root/notebooks/resultados-modelos-tesis/prueba"
   ]
  },
  {
   "cell_type": "code",
   "execution_count": 21,
   "id": "f5fc325c",
   "metadata": {},
   "outputs": [],
   "source": [
    "#cp -r /root/notebooks/exp-6.ipynb  /root/notebooks/result/prueba "
   ]
  },
  {
   "cell_type": "code",
   "execution_count": 22,
   "id": "e78b0b76",
   "metadata": {},
   "outputs": [],
   "source": [
    "#cp -r /root/notebooks/exp-7.ipynb  /root/notebooks/result/prueba "
   ]
  },
  {
   "cell_type": "code",
   "execution_count": 23,
   "id": "d076db0c",
   "metadata": {},
   "outputs": [],
   "source": [
    "#cp -r /root/notebooks/exp-8.ipynb  /root/notebooks/result/prueba "
   ]
  },
  {
   "cell_type": "code",
   "execution_count": 24,
   "id": "b725808e",
   "metadata": {},
   "outputs": [],
   "source": [
    "#cp -r /root/notebooks/exp-9.ipynb  /root/notebooks/result/prueba "
   ]
  },
  {
   "cell_type": "code",
   "execution_count": 25,
   "id": "72d562b2",
   "metadata": {},
   "outputs": [],
   "source": [
    "#cp -r /root/notebooks/exp-10.ipynb  /root/notebooks/result/prueba "
   ]
  },
  {
   "cell_type": "code",
   "execution_count": null,
   "id": "5f4a4e4b",
   "metadata": {},
   "outputs": [],
   "source": []
  },
  {
   "cell_type": "code",
   "execution_count": 26,
   "id": "cbdaa732",
   "metadata": {},
   "outputs": [
    {
     "name": "stdout",
     "output_type": "stream",
     "text": [
      "exp_final_10.0.ipynb  exp_final_4.0.ipynb  exp_final_8.0.ipynb\r\n",
      "exp_final_1.0.ipynb   exp_final_5.0.ipynb  exp_final_9.0.ipynb\r\n",
      "exp_final_2.0.ipynb   exp_final_6.0.ipynb\r\n",
      "exp_final_3.0.ipynb   exp_final_7.0.ipynb\r\n"
     ]
    }
   ],
   "source": [
    "ls"
   ]
  },
  {
   "cell_type": "code",
   "execution_count": 27,
   "id": "90b40cf9",
   "metadata": {},
   "outputs": [],
   "source": [
    "!git add ."
   ]
  },
  {
   "cell_type": "code",
   "execution_count": 28,
   "id": "d113eac5",
   "metadata": {},
   "outputs": [],
   "source": [
    "!git config user.email \"rodrigo.montenegro@alumnos.uv.cl\"\n",
    "\n",
    "!git config user.name \"Rodrigomontenegrofarias\""
   ]
  },
  {
   "cell_type": "markdown",
   "id": "fb790f92",
   "metadata": {},
   "source": [
    "##### "
   ]
  },
  {
   "cell_type": "code",
   "execution_count": 29,
   "id": "cdf6966f",
   "metadata": {},
   "outputs": [
    {
     "name": "stdout",
     "output_type": "stream",
     "text": [
      "[main 5fe708b] commit message\n",
      " 1 file changed, 37746 insertions(+), 5958 deletions(-)\n"
     ]
    }
   ],
   "source": [
    "!git commit -m 'commit message'  # commit in Colab"
   ]
  },
  {
   "cell_type": "code",
   "execution_count": 30,
   "id": "ea14c70c",
   "metadata": {},
   "outputs": [
    {
     "name": "stdout",
     "output_type": "stream",
     "text": [
      "Counting objects: 4, done.\n",
      "Compressing objects: 100% (4/4), done.\n",
      "Writing objects: 100% (4/4), 1.39 MiB | 1.48 MiB/s, done.\n",
      "Total 4 (delta 3), reused 0 (delta 0)\n",
      "remote: Resolving deltas: 100% (3/3), completed with 3 local objects.\u001b[K\n",
      "To https://github.com/Rodrigomontenegrofarias/resultados-modelos-tesis.git\n",
      "   1e158be..5fe708b  main -> main\n"
     ]
    }
   ],
   "source": [
    "!git push origin main       # push to github"
   ]
  },
  {
   "cell_type": "code",
   "execution_count": null,
   "id": "ce8724e8",
   "metadata": {},
   "outputs": [],
   "source": []
  }
 ],
 "metadata": {
  "kernelspec": {
   "display_name": "Python 3",
   "language": "python",
   "name": "python3"
  },
  "language_info": {
   "codemirror_mode": {
    "name": "ipython",
    "version": 3
   },
   "file_extension": ".py",
   "mimetype": "text/x-python",
   "name": "python",
   "nbconvert_exporter": "python",
   "pygments_lexer": "ipython3",
   "version": "3.6.9"
  }
 },
 "nbformat": 4,
 "nbformat_minor": 5
}
